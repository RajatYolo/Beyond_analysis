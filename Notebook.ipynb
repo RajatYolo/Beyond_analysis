{
 "cells": [
  {
   "cell_type": "code",
   "execution_count": 1,
   "id": "fd252f9f",
   "metadata": {
    "_cell_guid": "b1076dfc-b9ad-4769-8c92-a6c4dae69d19",
    "_uuid": "8f2839f25d086af736a60e9eeb907d3b93b6e0e5",
    "execution": {
     "iopub.execute_input": "2021-08-30T15:22:12.683201Z",
     "iopub.status.busy": "2021-08-30T15:22:12.682645Z",
     "iopub.status.idle": "2021-08-30T15:22:12.698003Z",
     "shell.execute_reply": "2021-08-30T15:22:12.698538Z",
     "shell.execute_reply.started": "2021-08-30T15:06:38.209737Z"
    },
    "papermill": {
     "duration": 0.063647,
     "end_time": "2021-08-30T15:22:12.698748",
     "exception": false,
     "start_time": "2021-08-30T15:22:12.635101",
     "status": "completed"
    },
    "tags": []
   },
   "outputs": [
    {
     "name": "stdout",
     "output_type": "stream",
     "text": [
      "/kaggle/input/notdataset/modely1_best.pth\n",
      "/kaggle/input/notdata/modely1_end.pth\n",
      "/kaggle/input/beyond-analysis/train.csv\n",
      "/kaggle/input/beyond-analysis/sample_submission_random.csv\n",
      "/kaggle/input/beyond-analysis/test.csv\n"
     ]
    }
   ],
   "source": [
    "# This Python 3 environment comes with many helpful analytics libraries installed\n",
    "# It is defined by the kaggle/python Docker image: https://github.com/kaggle/docker-python\n",
    "# For example, here's several helpful packages to load\n",
    "\n",
    "import numpy as np # linear algebra\n",
    "import pandas as pd # data processing, CSV file I/O (e.g. pd.read_csv)\n",
    "\n",
    "# Input data files are available in the read-only \"../input/\" directory\n",
    "# For example, running this (by clicking run or pressing Shift+Enter) will list all files under the input directory\n",
    "\n",
    "import os\n",
    "for dirname, _, filenames in os.walk('/kaggle/input'):\n",
    "    for filename in filenames:\n",
    "        print(os.path.join(dirname, filename))\n",
    "\n",
    "# You can write up to 20GB to the current directory (/kaggle/working/) that gets preserved as output when you create a version using \"Save & Run All\" \n",
    "# You can also write temporary files to /kaggle/temp/, but they won't be saved outside of the current session"
   ]
  },
  {
   "cell_type": "code",
   "execution_count": 2,
   "id": "cc66c5de",
   "metadata": {
    "execution": {
     "iopub.execute_input": "2021-08-30T15:22:12.773187Z",
     "iopub.status.busy": "2021-08-30T15:22:12.772659Z",
     "iopub.status.idle": "2021-08-30T15:22:17.604515Z",
     "shell.execute_reply": "2021-08-30T15:22:17.603990Z",
     "shell.execute_reply.started": "2021-08-30T15:11:57.766449Z"
    },
    "papermill": {
     "duration": 4.87062,
     "end_time": "2021-08-30T15:22:17.604658",
     "exception": false,
     "start_time": "2021-08-30T15:22:12.734038",
     "status": "completed"
    },
    "tags": []
   },
   "outputs": [],
   "source": [
    "data=pd.read_csv(\"/kaggle/input/beyond-analysis/train.csv\")\n"
   ]
  },
  {
   "cell_type": "code",
   "execution_count": 3,
   "id": "03f86574",
   "metadata": {
    "execution": {
     "iopub.execute_input": "2021-08-30T15:22:17.693511Z",
     "iopub.status.busy": "2021-08-30T15:22:17.692699Z",
     "iopub.status.idle": "2021-08-30T15:22:17.721043Z",
     "shell.execute_reply": "2021-08-30T15:22:17.721473Z",
     "shell.execute_reply.started": "2021-08-30T15:12:00.920147Z"
    },
    "papermill": {
     "duration": 0.080612,
     "end_time": "2021-08-30T15:22:17.721616",
     "exception": false,
     "start_time": "2021-08-30T15:22:17.641004",
     "status": "completed"
    },
    "tags": []
   },
   "outputs": [
    {
     "data": {
      "text/html": [
       "<div>\n",
       "<style scoped>\n",
       "    .dataframe tbody tr th:only-of-type {\n",
       "        vertical-align: middle;\n",
       "    }\n",
       "\n",
       "    .dataframe tbody tr th {\n",
       "        vertical-align: top;\n",
       "    }\n",
       "\n",
       "    .dataframe thead th {\n",
       "        text-align: right;\n",
       "    }\n",
       "</style>\n",
       "<table border=\"1\" class=\"dataframe\">\n",
       "  <thead>\n",
       "    <tr style=\"text-align: right;\">\n",
       "      <th></th>\n",
       "      <th>UNIQUE_IDENTIFIER</th>\n",
       "      <th>SEQUENCE_NO</th>\n",
       "      <th>STATUS_CHECK</th>\n",
       "      <th>CATEGORY_1</th>\n",
       "      <th>CATEGORY_2</th>\n",
       "      <th>ACTIVE_YN</th>\n",
       "      <th>ENTRY</th>\n",
       "      <th>REVENUE</th>\n",
       "      <th>WINNINGS_1</th>\n",
       "      <th>WINNINGS_2</th>\n",
       "      <th>...</th>\n",
       "      <th>WITHDRAW_NUMBER</th>\n",
       "      <th>DEPOSIT_TRAILS</th>\n",
       "      <th>ENTRY_NUMBER</th>\n",
       "      <th>WINNINGS_NUMBER</th>\n",
       "      <th>PRACTICE_ENTRY</th>\n",
       "      <th>PRACTICE_WINNINGS</th>\n",
       "      <th>PRACTICE_ENTRY_NUMBER</th>\n",
       "      <th>PRACTICE_WINNINGS_NUMBER</th>\n",
       "      <th>Y1</th>\n",
       "      <th>Y2</th>\n",
       "    </tr>\n",
       "  </thead>\n",
       "  <tbody>\n",
       "    <tr>\n",
       "      <th>0</th>\n",
       "      <td>98481267304</td>\n",
       "      <td>1</td>\n",
       "      <td>0</td>\n",
       "      <td>M</td>\n",
       "      <td>B</td>\n",
       "      <td>1</td>\n",
       "      <td>0.00000</td>\n",
       "      <td>0.000000</td>\n",
       "      <td>0.0000</td>\n",
       "      <td>0.0</td>\n",
       "      <td>...</td>\n",
       "      <td>0.0</td>\n",
       "      <td>0.0</td>\n",
       "      <td>0.0</td>\n",
       "      <td>0.0</td>\n",
       "      <td>0.0</td>\n",
       "      <td>0.0</td>\n",
       "      <td>0.0</td>\n",
       "      <td>0.0</td>\n",
       "      <td>4.449287</td>\n",
       "      <td>101.369863</td>\n",
       "    </tr>\n",
       "    <tr>\n",
       "      <th>1</th>\n",
       "      <td>98481267304</td>\n",
       "      <td>2</td>\n",
       "      <td>0</td>\n",
       "      <td>M</td>\n",
       "      <td>B</td>\n",
       "      <td>1</td>\n",
       "      <td>0.13735</td>\n",
       "      <td>0.011550</td>\n",
       "      <td>0.0999</td>\n",
       "      <td>0.0</td>\n",
       "      <td>...</td>\n",
       "      <td>0.0</td>\n",
       "      <td>0.0</td>\n",
       "      <td>1.8</td>\n",
       "      <td>1.0</td>\n",
       "      <td>0.0</td>\n",
       "      <td>0.0</td>\n",
       "      <td>0.0</td>\n",
       "      <td>0.0</td>\n",
       "      <td>4.449287</td>\n",
       "      <td>101.369863</td>\n",
       "    </tr>\n",
       "    <tr>\n",
       "      <th>2</th>\n",
       "      <td>98481267304</td>\n",
       "      <td>3</td>\n",
       "      <td>0</td>\n",
       "      <td>M</td>\n",
       "      <td>B</td>\n",
       "      <td>1</td>\n",
       "      <td>0.15835</td>\n",
       "      <td>0.010425</td>\n",
       "      <td>0.0242</td>\n",
       "      <td>0.0</td>\n",
       "      <td>...</td>\n",
       "      <td>0.0</td>\n",
       "      <td>0.0</td>\n",
       "      <td>0.7</td>\n",
       "      <td>0.3</td>\n",
       "      <td>0.0</td>\n",
       "      <td>0.0</td>\n",
       "      <td>0.0</td>\n",
       "      <td>0.0</td>\n",
       "      <td>4.449287</td>\n",
       "      <td>101.369863</td>\n",
       "    </tr>\n",
       "    <tr>\n",
       "      <th>3</th>\n",
       "      <td>98481267304</td>\n",
       "      <td>4</td>\n",
       "      <td>0</td>\n",
       "      <td>M</td>\n",
       "      <td>B</td>\n",
       "      <td>1</td>\n",
       "      <td>0.44490</td>\n",
       "      <td>0.035850</td>\n",
       "      <td>0.2398</td>\n",
       "      <td>0.0</td>\n",
       "      <td>...</td>\n",
       "      <td>0.0</td>\n",
       "      <td>0.0</td>\n",
       "      <td>2.8</td>\n",
       "      <td>1.5</td>\n",
       "      <td>0.0</td>\n",
       "      <td>0.0</td>\n",
       "      <td>0.0</td>\n",
       "      <td>0.0</td>\n",
       "      <td>4.449287</td>\n",
       "      <td>101.369863</td>\n",
       "    </tr>\n",
       "    <tr>\n",
       "      <th>4</th>\n",
       "      <td>98481267304</td>\n",
       "      <td>5</td>\n",
       "      <td>0</td>\n",
       "      <td>M</td>\n",
       "      <td>B</td>\n",
       "      <td>1</td>\n",
       "      <td>0.00000</td>\n",
       "      <td>0.000000</td>\n",
       "      <td>0.0000</td>\n",
       "      <td>0.0</td>\n",
       "      <td>...</td>\n",
       "      <td>0.0</td>\n",
       "      <td>0.0</td>\n",
       "      <td>0.0</td>\n",
       "      <td>0.0</td>\n",
       "      <td>0.0</td>\n",
       "      <td>0.0</td>\n",
       "      <td>0.0</td>\n",
       "      <td>0.0</td>\n",
       "      <td>4.449287</td>\n",
       "      <td>101.369863</td>\n",
       "    </tr>\n",
       "  </tbody>\n",
       "</table>\n",
       "<p>5 rows × 25 columns</p>\n",
       "</div>"
      ],
      "text/plain": [
       "   UNIQUE_IDENTIFIER  SEQUENCE_NO  STATUS_CHECK CATEGORY_1 CATEGORY_2  \\\n",
       "0        98481267304            1             0          M          B   \n",
       "1        98481267304            2             0          M          B   \n",
       "2        98481267304            3             0          M          B   \n",
       "3        98481267304            4             0          M          B   \n",
       "4        98481267304            5             0          M          B   \n",
       "\n",
       "   ACTIVE_YN    ENTRY   REVENUE  WINNINGS_1  WINNINGS_2  ...  WITHDRAW_NUMBER  \\\n",
       "0          1  0.00000  0.000000      0.0000         0.0  ...              0.0   \n",
       "1          1  0.13735  0.011550      0.0999         0.0  ...              0.0   \n",
       "2          1  0.15835  0.010425      0.0242         0.0  ...              0.0   \n",
       "3          1  0.44490  0.035850      0.2398         0.0  ...              0.0   \n",
       "4          1  0.00000  0.000000      0.0000         0.0  ...              0.0   \n",
       "\n",
       "   DEPOSIT_TRAILS  ENTRY_NUMBER  WINNINGS_NUMBER  PRACTICE_ENTRY  \\\n",
       "0             0.0           0.0              0.0             0.0   \n",
       "1             0.0           1.8              1.0             0.0   \n",
       "2             0.0           0.7              0.3             0.0   \n",
       "3             0.0           2.8              1.5             0.0   \n",
       "4             0.0           0.0              0.0             0.0   \n",
       "\n",
       "   PRACTICE_WINNINGS  PRACTICE_ENTRY_NUMBER  PRACTICE_WINNINGS_NUMBER  \\\n",
       "0                0.0                    0.0                       0.0   \n",
       "1                0.0                    0.0                       0.0   \n",
       "2                0.0                    0.0                       0.0   \n",
       "3                0.0                    0.0                       0.0   \n",
       "4                0.0                    0.0                       0.0   \n",
       "\n",
       "         Y1          Y2  \n",
       "0  4.449287  101.369863  \n",
       "1  4.449287  101.369863  \n",
       "2  4.449287  101.369863  \n",
       "3  4.449287  101.369863  \n",
       "4  4.449287  101.369863  \n",
       "\n",
       "[5 rows x 25 columns]"
      ]
     },
     "execution_count": 3,
     "metadata": {},
     "output_type": "execute_result"
    }
   ],
   "source": [
    "data.head()"
   ]
  },
  {
   "cell_type": "code",
   "execution_count": 4,
   "id": "d0b865a5",
   "metadata": {
    "execution": {
     "iopub.execute_input": "2021-08-30T15:22:17.798364Z",
     "iopub.status.busy": "2021-08-30T15:22:17.797783Z",
     "iopub.status.idle": "2021-08-30T15:22:17.801882Z",
     "shell.execute_reply": "2021-08-30T15:22:17.801458Z",
     "shell.execute_reply.started": "2021-08-30T15:12:01.052346Z"
    },
    "papermill": {
     "duration": 0.043306,
     "end_time": "2021-08-30T15:22:17.802001",
     "exception": false,
     "start_time": "2021-08-30T15:22:17.758695",
     "status": "completed"
    },
    "tags": []
   },
   "outputs": [],
   "source": [
    "# data.drop([\"PRACTICE_ENTRY\",\"PRACTICE_WINNINGS\",\"PRACTICE_ENTRY_NUMBER\",\"PRACTICE_WINNINGS_NUMBER\"],axis=1,inplace=True)"
   ]
  },
  {
   "cell_type": "code",
   "execution_count": 5,
   "id": "97773d8f",
   "metadata": {
    "execution": {
     "iopub.execute_input": "2021-08-30T15:22:17.966032Z",
     "iopub.status.busy": "2021-08-30T15:22:17.891080Z",
     "iopub.status.idle": "2021-08-30T15:22:17.978899Z",
     "shell.execute_reply": "2021-08-30T15:22:17.978457Z",
     "shell.execute_reply.started": "2021-08-30T15:12:08.024796Z"
    },
    "papermill": {
     "duration": 0.141105,
     "end_time": "2021-08-30T15:22:17.979030",
     "exception": false,
     "start_time": "2021-08-30T15:22:17.837925",
     "status": "completed"
    },
    "tags": []
   },
   "outputs": [
    {
     "data": {
      "text/plain": [
       "((1246837, 23), (1246837, 2), (1246837, 25))"
      ]
     },
     "execution_count": 5,
     "metadata": {},
     "output_type": "execute_result"
    }
   ],
   "source": [
    "X=data.iloc[:,:-2]\n",
    "y=data.iloc[:,-2:]\n",
    "X.shape,y.shape,data.shape"
   ]
  },
  {
   "cell_type": "code",
   "execution_count": 6,
   "id": "16c7f295",
   "metadata": {
    "execution": {
     "iopub.execute_input": "2021-08-30T15:22:18.057565Z",
     "iopub.status.busy": "2021-08-30T15:22:18.056865Z",
     "iopub.status.idle": "2021-08-30T15:22:18.901160Z",
     "shell.execute_reply": "2021-08-30T15:22:18.900693Z",
     "shell.execute_reply.started": "2021-08-30T15:12:10.009918Z"
    },
    "papermill": {
     "duration": 0.885897,
     "end_time": "2021-08-30T15:22:18.901319",
     "exception": false,
     "start_time": "2021-08-30T15:22:18.015422",
     "status": "completed"
    },
    "tags": []
   },
   "outputs": [],
   "source": [
    "import category_encoders as ce\n",
    "from sklearn.model_selection import train_test_split\n",
    "from sklearn.preprocessing import StandardScaler"
   ]
  },
  {
   "cell_type": "code",
   "execution_count": null,
   "id": "6fc884d5",
   "metadata": {
    "papermill": {
     "duration": 0.035982,
     "end_time": "2021-08-30T15:22:18.973962",
     "exception": false,
     "start_time": "2021-08-30T15:22:18.937980",
     "status": "completed"
    },
    "tags": []
   },
   "outputs": [],
   "source": []
  },
  {
   "cell_type": "code",
   "execution_count": 7,
   "id": "372e35d9",
   "metadata": {
    "execution": {
     "iopub.execute_input": "2021-08-30T15:22:19.052544Z",
     "iopub.status.busy": "2021-08-30T15:22:19.051688Z",
     "iopub.status.idle": "2021-08-30T15:22:21.939968Z",
     "shell.execute_reply": "2021-08-30T15:22:21.939494Z",
     "shell.execute_reply.started": "2021-08-30T15:12:12.961057Z"
    },
    "papermill": {
     "duration": 2.929429,
     "end_time": "2021-08-30T15:22:21.940103",
     "exception": false,
     "start_time": "2021-08-30T15:22:19.010674",
     "status": "completed"
    },
    "tags": []
   },
   "outputs": [
    {
     "name": "stderr",
     "output_type": "stream",
     "text": [
      "/opt/conda/lib/python3.7/site-packages/category_encoders/utils.py:21: FutureWarning: is_categorical is deprecated and will be removed in a future version.  Use is_categorical_dtype instead\n",
      "  elif pd.api.types.is_categorical(cols):\n"
     ]
    }
   ],
   "source": [
    "encoder = ce.BinaryEncoder(cols=[\"CATEGORY_1\",\"CATEGORY_2\"])\n",
    "X=encoder.fit_transform(X)\n",
    "X.drop([\"CATEGORY_1_0\",\"CATEGORY_2_0\"],axis=1,inplace=True)"
   ]
  },
  {
   "cell_type": "code",
   "execution_count": 8,
   "id": "a611ad03",
   "metadata": {
    "execution": {
     "iopub.execute_input": "2021-08-30T15:22:22.019219Z",
     "iopub.status.busy": "2021-08-30T15:22:22.018001Z",
     "iopub.status.idle": "2021-08-30T15:22:22.128930Z",
     "shell.execute_reply": "2021-08-30T15:22:22.128445Z",
     "shell.execute_reply.started": "2021-08-30T15:12:20.286271Z"
    },
    "papermill": {
     "duration": 0.152363,
     "end_time": "2021-08-30T15:22:22.129063",
     "exception": false,
     "start_time": "2021-08-30T15:22:21.976700",
     "status": "completed"
    },
    "tags": []
   },
   "outputs": [],
   "source": [
    "dat=pd.concat([X,y],axis=1)"
   ]
  },
  {
   "cell_type": "code",
   "execution_count": 9,
   "id": "5164e895",
   "metadata": {
    "execution": {
     "iopub.execute_input": "2021-08-30T15:22:22.208837Z",
     "iopub.status.busy": "2021-08-30T15:22:22.207664Z",
     "iopub.status.idle": "2021-08-30T15:22:22.638404Z",
     "shell.execute_reply": "2021-08-30T15:22:22.637943Z",
     "shell.execute_reply.started": "2021-08-30T15:12:21.779963Z"
    },
    "papermill": {
     "duration": 0.472696,
     "end_time": "2021-08-30T15:22:22.638534",
     "exception": false,
     "start_time": "2021-08-30T15:22:22.165838",
     "status": "completed"
    },
    "tags": []
   },
   "outputs": [],
   "source": [
    "dat=dat.groupby(by=\"UNIQUE_IDENTIFIER\").mean()\n",
    "X=dat.iloc[:,:-2]\n",
    "y=dat.iloc[:,-2:]"
   ]
  },
  {
   "cell_type": "code",
   "execution_count": 10,
   "id": "7d35bda7",
   "metadata": {
    "execution": {
     "iopub.execute_input": "2021-08-30T15:22:22.720900Z",
     "iopub.status.busy": "2021-08-30T15:22:22.720140Z",
     "iopub.status.idle": "2021-08-30T15:22:22.723507Z",
     "shell.execute_reply": "2021-08-30T15:22:22.723919Z",
     "shell.execute_reply.started": "2021-08-30T15:13:04.991407Z"
    },
    "papermill": {
     "duration": 0.047481,
     "end_time": "2021-08-30T15:22:22.724063",
     "exception": false,
     "start_time": "2021-08-30T15:22:22.676582",
     "status": "completed"
    },
    "tags": []
   },
   "outputs": [
    {
     "data": {
      "text/plain": [
       "((96298, 28), (96298, 2))"
      ]
     },
     "execution_count": 10,
     "metadata": {},
     "output_type": "execute_result"
    }
   ],
   "source": [
    "X.shape,y.shape"
   ]
  },
  {
   "cell_type": "code",
   "execution_count": 11,
   "id": "ed95576c",
   "metadata": {
    "execution": {
     "iopub.execute_input": "2021-08-30T15:22:22.828131Z",
     "iopub.status.busy": "2021-08-30T15:22:22.827177Z",
     "iopub.status.idle": "2021-08-30T15:22:22.833576Z",
     "shell.execute_reply": "2021-08-30T15:22:22.833992Z",
     "shell.execute_reply.started": "2021-08-30T15:13:11.219864Z"
    },
    "papermill": {
     "duration": 0.073281,
     "end_time": "2021-08-30T15:22:22.834154",
     "exception": false,
     "start_time": "2021-08-30T15:22:22.760873",
     "status": "completed"
    },
    "tags": []
   },
   "outputs": [
    {
     "data": {
      "text/html": [
       "<div>\n",
       "<style scoped>\n",
       "    .dataframe tbody tr th:only-of-type {\n",
       "        vertical-align: middle;\n",
       "    }\n",
       "\n",
       "    .dataframe tbody tr th {\n",
       "        vertical-align: top;\n",
       "    }\n",
       "\n",
       "    .dataframe thead th {\n",
       "        text-align: right;\n",
       "    }\n",
       "</style>\n",
       "<table border=\"1\" class=\"dataframe\">\n",
       "  <thead>\n",
       "    <tr style=\"text-align: right;\">\n",
       "      <th></th>\n",
       "      <th>SEQUENCE_NO</th>\n",
       "      <th>STATUS_CHECK</th>\n",
       "      <th>CATEGORY_1_1</th>\n",
       "      <th>CATEGORY_1_2</th>\n",
       "      <th>CATEGORY_1_3</th>\n",
       "      <th>CATEGORY_1_4</th>\n",
       "      <th>CATEGORY_2_1</th>\n",
       "      <th>CATEGORY_2_2</th>\n",
       "      <th>CATEGORY_2_3</th>\n",
       "      <th>CATEGORY_2_4</th>\n",
       "      <th>...</th>\n",
       "      <th>DEPOSIT_2</th>\n",
       "      <th>WITHDRAW</th>\n",
       "      <th>WITHDRAW_NUMBER</th>\n",
       "      <th>DEPOSIT_TRAILS</th>\n",
       "      <th>ENTRY_NUMBER</th>\n",
       "      <th>WINNINGS_NUMBER</th>\n",
       "      <th>PRACTICE_ENTRY</th>\n",
       "      <th>PRACTICE_WINNINGS</th>\n",
       "      <th>PRACTICE_ENTRY_NUMBER</th>\n",
       "      <th>PRACTICE_WINNINGS_NUMBER</th>\n",
       "    </tr>\n",
       "    <tr>\n",
       "      <th>UNIQUE_IDENTIFIER</th>\n",
       "      <th></th>\n",
       "      <th></th>\n",
       "      <th></th>\n",
       "      <th></th>\n",
       "      <th></th>\n",
       "      <th></th>\n",
       "      <th></th>\n",
       "      <th></th>\n",
       "      <th></th>\n",
       "      <th></th>\n",
       "      <th></th>\n",
       "      <th></th>\n",
       "      <th></th>\n",
       "      <th></th>\n",
       "      <th></th>\n",
       "      <th></th>\n",
       "      <th></th>\n",
       "      <th></th>\n",
       "      <th></th>\n",
       "      <th></th>\n",
       "      <th></th>\n",
       "    </tr>\n",
       "  </thead>\n",
       "  <tbody>\n",
       "    <tr>\n",
       "      <th>98481267304</th>\n",
       "      <td>4.0</td>\n",
       "      <td>0.0</td>\n",
       "      <td>0.0</td>\n",
       "      <td>0.0</td>\n",
       "      <td>0.0</td>\n",
       "      <td>1.0</td>\n",
       "      <td>0.0</td>\n",
       "      <td>0.0</td>\n",
       "      <td>0.0</td>\n",
       "      <td>1.0</td>\n",
       "      <td>...</td>\n",
       "      <td>0.035714</td>\n",
       "      <td>0.000000</td>\n",
       "      <td>0.000000</td>\n",
       "      <td>0.000000</td>\n",
       "      <td>0.928571</td>\n",
       "      <td>0.442857</td>\n",
       "      <td>0.0</td>\n",
       "      <td>0.0</td>\n",
       "      <td>0.0</td>\n",
       "      <td>0.0</td>\n",
       "    </tr>\n",
       "    <tr>\n",
       "      <th>98481267698</th>\n",
       "      <td>10.0</td>\n",
       "      <td>1.0</td>\n",
       "      <td>0.0</td>\n",
       "      <td>0.0</td>\n",
       "      <td>0.0</td>\n",
       "      <td>1.0</td>\n",
       "      <td>0.0</td>\n",
       "      <td>0.0</td>\n",
       "      <td>1.0</td>\n",
       "      <td>0.0</td>\n",
       "      <td>...</td>\n",
       "      <td>0.526316</td>\n",
       "      <td>1.357895</td>\n",
       "      <td>0.010526</td>\n",
       "      <td>0.684211</td>\n",
       "      <td>0.700000</td>\n",
       "      <td>0.247368</td>\n",
       "      <td>0.0</td>\n",
       "      <td>0.0</td>\n",
       "      <td>0.0</td>\n",
       "      <td>0.0</td>\n",
       "    </tr>\n",
       "    <tr>\n",
       "      <th>98481269325</th>\n",
       "      <td>9.5</td>\n",
       "      <td>0.0</td>\n",
       "      <td>0.0</td>\n",
       "      <td>0.0</td>\n",
       "      <td>0.0</td>\n",
       "      <td>1.0</td>\n",
       "      <td>0.0</td>\n",
       "      <td>0.0</td>\n",
       "      <td>1.0</td>\n",
       "      <td>1.0</td>\n",
       "      <td>...</td>\n",
       "      <td>0.013889</td>\n",
       "      <td>0.000000</td>\n",
       "      <td>0.000000</td>\n",
       "      <td>0.027778</td>\n",
       "      <td>1.311111</td>\n",
       "      <td>0.305556</td>\n",
       "      <td>0.0</td>\n",
       "      <td>0.0</td>\n",
       "      <td>0.0</td>\n",
       "      <td>0.0</td>\n",
       "    </tr>\n",
       "    <tr>\n",
       "      <th>98481271512</th>\n",
       "      <td>3.0</td>\n",
       "      <td>0.0</td>\n",
       "      <td>0.0</td>\n",
       "      <td>0.0</td>\n",
       "      <td>0.0</td>\n",
       "      <td>1.0</td>\n",
       "      <td>0.0</td>\n",
       "      <td>1.0</td>\n",
       "      <td>0.0</td>\n",
       "      <td>0.0</td>\n",
       "      <td>...</td>\n",
       "      <td>0.200000</td>\n",
       "      <td>0.000000</td>\n",
       "      <td>0.000000</td>\n",
       "      <td>0.540000</td>\n",
       "      <td>0.900000</td>\n",
       "      <td>0.040000</td>\n",
       "      <td>0.0</td>\n",
       "      <td>0.0</td>\n",
       "      <td>0.0</td>\n",
       "      <td>0.0</td>\n",
       "    </tr>\n",
       "    <tr>\n",
       "      <th>98481273023</th>\n",
       "      <td>1.0</td>\n",
       "      <td>0.0</td>\n",
       "      <td>0.0</td>\n",
       "      <td>0.0</td>\n",
       "      <td>0.0</td>\n",
       "      <td>1.0</td>\n",
       "      <td>0.0</td>\n",
       "      <td>0.0</td>\n",
       "      <td>1.0</td>\n",
       "      <td>0.0</td>\n",
       "      <td>...</td>\n",
       "      <td>0.500000</td>\n",
       "      <td>0.000000</td>\n",
       "      <td>0.000000</td>\n",
       "      <td>0.000000</td>\n",
       "      <td>0.200000</td>\n",
       "      <td>0.000000</td>\n",
       "      <td>0.0</td>\n",
       "      <td>0.0</td>\n",
       "      <td>0.0</td>\n",
       "      <td>0.0</td>\n",
       "    </tr>\n",
       "  </tbody>\n",
       "</table>\n",
       "<p>5 rows × 28 columns</p>\n",
       "</div>"
      ],
      "text/plain": [
       "                   SEQUENCE_NO  STATUS_CHECK  CATEGORY_1_1  CATEGORY_1_2  \\\n",
       "UNIQUE_IDENTIFIER                                                          \n",
       "98481267304                4.0           0.0           0.0           0.0   \n",
       "98481267698               10.0           1.0           0.0           0.0   \n",
       "98481269325                9.5           0.0           0.0           0.0   \n",
       "98481271512                3.0           0.0           0.0           0.0   \n",
       "98481273023                1.0           0.0           0.0           0.0   \n",
       "\n",
       "                   CATEGORY_1_3  CATEGORY_1_4  CATEGORY_2_1  CATEGORY_2_2  \\\n",
       "UNIQUE_IDENTIFIER                                                           \n",
       "98481267304                 0.0           1.0           0.0           0.0   \n",
       "98481267698                 0.0           1.0           0.0           0.0   \n",
       "98481269325                 0.0           1.0           0.0           0.0   \n",
       "98481271512                 0.0           1.0           0.0           1.0   \n",
       "98481273023                 0.0           1.0           0.0           0.0   \n",
       "\n",
       "                   CATEGORY_2_3  CATEGORY_2_4  ...  DEPOSIT_2  WITHDRAW  \\\n",
       "UNIQUE_IDENTIFIER                              ...                        \n",
       "98481267304                 0.0           1.0  ...   0.035714  0.000000   \n",
       "98481267698                 1.0           0.0  ...   0.526316  1.357895   \n",
       "98481269325                 1.0           1.0  ...   0.013889  0.000000   \n",
       "98481271512                 0.0           0.0  ...   0.200000  0.000000   \n",
       "98481273023                 1.0           0.0  ...   0.500000  0.000000   \n",
       "\n",
       "                   WITHDRAW_NUMBER  DEPOSIT_TRAILS  ENTRY_NUMBER  \\\n",
       "UNIQUE_IDENTIFIER                                                  \n",
       "98481267304               0.000000        0.000000      0.928571   \n",
       "98481267698               0.010526        0.684211      0.700000   \n",
       "98481269325               0.000000        0.027778      1.311111   \n",
       "98481271512               0.000000        0.540000      0.900000   \n",
       "98481273023               0.000000        0.000000      0.200000   \n",
       "\n",
       "                   WINNINGS_NUMBER  PRACTICE_ENTRY  PRACTICE_WINNINGS  \\\n",
       "UNIQUE_IDENTIFIER                                                       \n",
       "98481267304               0.442857             0.0                0.0   \n",
       "98481267698               0.247368             0.0                0.0   \n",
       "98481269325               0.305556             0.0                0.0   \n",
       "98481271512               0.040000             0.0                0.0   \n",
       "98481273023               0.000000             0.0                0.0   \n",
       "\n",
       "                   PRACTICE_ENTRY_NUMBER  PRACTICE_WINNINGS_NUMBER  \n",
       "UNIQUE_IDENTIFIER                                                   \n",
       "98481267304                          0.0                       0.0  \n",
       "98481267698                          0.0                       0.0  \n",
       "98481269325                          0.0                       0.0  \n",
       "98481271512                          0.0                       0.0  \n",
       "98481273023                          0.0                       0.0  \n",
       "\n",
       "[5 rows x 28 columns]"
      ]
     },
     "execution_count": 11,
     "metadata": {},
     "output_type": "execute_result"
    }
   ],
   "source": [
    "X.head()"
   ]
  },
  {
   "cell_type": "code",
   "execution_count": 12,
   "id": "de5cbe2b",
   "metadata": {
    "execution": {
     "iopub.execute_input": "2021-08-30T15:22:22.919442Z",
     "iopub.status.busy": "2021-08-30T15:22:22.918616Z",
     "iopub.status.idle": "2021-08-30T15:22:22.961507Z",
     "shell.execute_reply": "2021-08-30T15:22:22.961024Z",
     "shell.execute_reply.started": "2021-08-30T15:13:24.911903Z"
    },
    "papermill": {
     "duration": 0.086097,
     "end_time": "2021-08-30T15:22:22.961651",
     "exception": false,
     "start_time": "2021-08-30T15:22:22.875554",
     "status": "completed"
    },
    "tags": []
   },
   "outputs": [],
   "source": [
    "X_train, X_test, y_train, y_test = train_test_split(X, y, test_size=0.25, random_state=42)"
   ]
  },
  {
   "cell_type": "code",
   "execution_count": 13,
   "id": "99615a7e",
   "metadata": {
    "execution": {
     "iopub.execute_input": "2021-08-30T15:22:23.044092Z",
     "iopub.status.busy": "2021-08-30T15:22:23.043031Z",
     "iopub.status.idle": "2021-08-30T15:22:23.088050Z",
     "shell.execute_reply": "2021-08-30T15:22:23.087590Z",
     "shell.execute_reply.started": "2021-08-30T15:13:27.396261Z"
    },
    "papermill": {
     "duration": 0.089152,
     "end_time": "2021-08-30T15:22:23.088177",
     "exception": false,
     "start_time": "2021-08-30T15:22:22.999025",
     "status": "completed"
    },
    "tags": []
   },
   "outputs": [],
   "source": [
    "sc= StandardScaler()\n",
    "X_train=sc.fit_transform(X_train)\n",
    "X_test=sc.transform(X_test)"
   ]
  },
  {
   "cell_type": "code",
   "execution_count": 14,
   "id": "4c2c8d28",
   "metadata": {
    "execution": {
     "iopub.execute_input": "2021-08-30T15:22:23.168208Z",
     "iopub.status.busy": "2021-08-30T15:22:23.167571Z",
     "iopub.status.idle": "2021-08-30T15:22:23.170294Z",
     "shell.execute_reply": "2021-08-30T15:22:23.170675Z",
     "shell.execute_reply.started": "2021-08-30T15:13:28.746780Z"
    },
    "papermill": {
     "duration": 0.04495,
     "end_time": "2021-08-30T15:22:23.170815",
     "exception": false,
     "start_time": "2021-08-30T15:22:23.125865",
     "status": "completed"
    },
    "tags": []
   },
   "outputs": [],
   "source": [
    "y_train=np.array(y_train)\n",
    "y_test=np.array(y_test)"
   ]
  },
  {
   "cell_type": "code",
   "execution_count": 15,
   "id": "6394d695",
   "metadata": {
    "execution": {
     "iopub.execute_input": "2021-08-30T15:22:23.251152Z",
     "iopub.status.busy": "2021-08-30T15:22:23.250044Z",
     "iopub.status.idle": "2021-08-30T15:22:23.256011Z",
     "shell.execute_reply": "2021-08-30T15:22:23.255578Z",
     "shell.execute_reply.started": "2021-08-30T15:13:29.462615Z"
    },
    "papermill": {
     "duration": 0.047808,
     "end_time": "2021-08-30T15:22:23.256135",
     "exception": false,
     "start_time": "2021-08-30T15:22:23.208327",
     "status": "completed"
    },
    "tags": []
   },
   "outputs": [],
   "source": [
    "X_train=X_train.astype(np.float32)\n",
    "X_test=X_test.astype(np.float32)\n",
    "y_train=y_train.astype(np.float32)\n",
    "y_test=y_test.astype(np.float32)"
   ]
  },
  {
   "cell_type": "code",
   "execution_count": 16,
   "id": "328ff7e0",
   "metadata": {
    "execution": {
     "iopub.execute_input": "2021-08-30T15:22:23.335756Z",
     "iopub.status.busy": "2021-08-30T15:22:23.335171Z",
     "iopub.status.idle": "2021-08-30T15:22:24.504172Z",
     "shell.execute_reply": "2021-08-30T15:22:24.503699Z",
     "shell.execute_reply.started": "2021-08-30T15:13:33.798839Z"
    },
    "papermill": {
     "duration": 1.210963,
     "end_time": "2021-08-30T15:22:24.504343",
     "exception": false,
     "start_time": "2021-08-30T15:22:23.293380",
     "status": "completed"
    },
    "tags": []
   },
   "outputs": [],
   "source": [
    "import torch\n",
    "from torch import nn\n",
    "import torch.nn.functional as F\n",
    "from torch import optim\n",
    "from torch.utils.data._utils.collate import default_collate\n",
    "from torch.utils.data import Subset\n",
    "from torch.utils.data import DataLoader, TensorDataset\n",
    "from torch import Tensor\n",
    "import matplotlib.pyplot as plt"
   ]
  },
  {
   "cell_type": "code",
   "execution_count": 17,
   "id": "d61133e2",
   "metadata": {
    "execution": {
     "iopub.execute_input": "2021-08-30T15:22:24.583409Z",
     "iopub.status.busy": "2021-08-30T15:22:24.582834Z",
     "iopub.status.idle": "2021-08-30T15:22:24.586540Z",
     "shell.execute_reply": "2021-08-30T15:22:24.586908Z",
     "shell.execute_reply.started": "2021-08-30T15:13:39.941186Z"
    },
    "papermill": {
     "duration": 0.045173,
     "end_time": "2021-08-30T15:22:24.587051",
     "exception": false,
     "start_time": "2021-08-30T15:22:24.541878",
     "status": "completed"
    },
    "tags": []
   },
   "outputs": [],
   "source": [
    "# # use this when we want y to be  N * 2 \n",
    "# def train_val_dataset():\n",
    "#     datasets = {}\n",
    "#     train_data=np.concatenate((X_train,y_train),axis=1)\n",
    "#     datasets['train'] =torch.from_numpy(train_data)\n",
    "    \n",
    "#     test_data=np.concatenate((X_test,y_test),axis=1)\n",
    "#     datasets['val'] = torch.from_numpy(test_data)\n",
    "#     return datasets"
   ]
  },
  {
   "cell_type": "code",
   "execution_count": 18,
   "id": "2d747f56",
   "metadata": {
    "execution": {
     "iopub.execute_input": "2021-08-30T15:22:24.668700Z",
     "iopub.status.busy": "2021-08-30T15:22:24.667899Z",
     "iopub.status.idle": "2021-08-30T15:22:24.670424Z",
     "shell.execute_reply": "2021-08-30T15:22:24.670000Z",
     "shell.execute_reply.started": "2021-08-30T15:15:39.109806Z"
    },
    "papermill": {
     "duration": 0.046073,
     "end_time": "2021-08-30T15:22:24.670537",
     "exception": false,
     "start_time": "2021-08-30T15:22:24.624464",
     "status": "completed"
    },
    "tags": []
   },
   "outputs": [],
   "source": [
    "##use this when we want y to be N * 1\n",
    "def train_val_dataset():\n",
    "    datasets = {}\n",
    "    train_data=np.concatenate((X_train,y_train[:,0].reshape(-1,1)),axis=1)\n",
    "    datasets['trainy1'] =torch.from_numpy(train_data)\n",
    "    train_data=np.concatenate((X_train,y_train[:,1].reshape(-1,1)),axis=1)\n",
    "    datasets['trainy2'] =torch.from_numpy(train_data)\n",
    "    test_data=np.concatenate((X_test,y_test[:,0].reshape(-1,1)),axis=1)\n",
    "    datasets['valy1'] = torch.from_numpy(test_data)\n",
    "    test_data=np.concatenate((X_test,y_test[:,1].reshape(-1,1)),axis=1)\n",
    "    datasets['valy2'] = torch.from_numpy(test_data)\n",
    "    return datasets"
   ]
  },
  {
   "cell_type": "code",
   "execution_count": 19,
   "id": "afdd6a26",
   "metadata": {
    "execution": {
     "iopub.execute_input": "2021-08-30T15:22:24.751662Z",
     "iopub.status.busy": "2021-08-30T15:22:24.750399Z",
     "iopub.status.idle": "2021-08-30T15:22:24.766886Z",
     "shell.execute_reply": "2021-08-30T15:22:24.767326Z",
     "shell.execute_reply.started": "2021-08-30T15:15:40.909769Z"
    },
    "papermill": {
     "duration": 0.059354,
     "end_time": "2021-08-30T15:22:24.767469",
     "exception": false,
     "start_time": "2021-08-30T15:22:24.708115",
     "status": "completed"
    },
    "tags": []
   },
   "outputs": [],
   "source": [
    "datasets=train_val_dataset()"
   ]
  },
  {
   "cell_type": "code",
   "execution_count": 20,
   "id": "227c3aff",
   "metadata": {
    "execution": {
     "iopub.execute_input": "2021-08-30T15:22:24.850682Z",
     "iopub.status.busy": "2021-08-30T15:22:24.849858Z",
     "iopub.status.idle": "2021-08-30T15:22:24.954708Z",
     "shell.execute_reply": "2021-08-30T15:22:24.954110Z",
     "shell.execute_reply.started": "2021-08-30T15:13:51.810071Z"
    },
    "papermill": {
     "duration": 0.149945,
     "end_time": "2021-08-30T15:22:24.954959",
     "exception": true,
     "start_time": "2021-08-30T15:22:24.805014",
     "status": "failed"
    },
    "tags": []
   },
   "outputs": [
    {
     "ename": "KeyError",
     "evalue": "'train'",
     "output_type": "error",
     "traceback": [
      "\u001b[0;31m---------------------------------------------------------------------------\u001b[0m",
      "\u001b[0;31mKeyError\u001b[0m                                  Traceback (most recent call last)",
      "\u001b[0;32m<ipython-input-20-6d615306eb44>\u001b[0m in \u001b[0;36m<module>\u001b[0;34m\u001b[0m\n\u001b[0;32m----> 1\u001b[0;31m \u001b[0mdatasets\u001b[0m\u001b[0;34m[\u001b[0m\u001b[0;34m\"train\"\u001b[0m\u001b[0;34m]\u001b[0m\u001b[0;34m.\u001b[0m\u001b[0mshape\u001b[0m\u001b[0;34m\u001b[0m\u001b[0;34m\u001b[0m\u001b[0m\n\u001b[0m",
      "\u001b[0;31mKeyError\u001b[0m: 'train'"
     ]
    }
   ],
   "source": [
    "datasets[\"train\"].shape"
   ]
  },
  {
   "cell_type": "code",
   "execution_count": null,
   "id": "cc91977e",
   "metadata": {
    "execution": {
     "iopub.execute_input": "2021-08-30T15:17:06.604039Z",
     "iopub.status.busy": "2021-08-30T15:17:06.603688Z",
     "iopub.status.idle": "2021-08-30T15:17:06.609271Z",
     "shell.execute_reply": "2021-08-30T15:17:06.608472Z",
     "shell.execute_reply.started": "2021-08-30T15:17:06.604008Z"
    },
    "papermill": {
     "duration": null,
     "end_time": null,
     "exception": null,
     "start_time": null,
     "status": "pending"
    },
    "tags": []
   },
   "outputs": [],
   "source": [
    "datasets[\"trainy1\"].shape"
   ]
  },
  {
   "cell_type": "code",
   "execution_count": null,
   "id": "f7e60561",
   "metadata": {
    "execution": {
     "iopub.execute_input": "2021-08-30T07:02:47.367624Z",
     "iopub.status.busy": "2021-08-30T07:02:47.367235Z",
     "iopub.status.idle": "2021-08-30T07:02:47.37165Z",
     "shell.execute_reply": "2021-08-30T07:02:47.370301Z",
     "shell.execute_reply.started": "2021-08-30T07:02:47.36759Z"
    },
    "papermill": {
     "duration": null,
     "end_time": null,
     "exception": null,
     "start_time": null,
     "status": "pending"
    },
    "tags": []
   },
   "outputs": [],
   "source": [
    "# datasets[\"trainy1\"].shape"
   ]
  },
  {
   "cell_type": "code",
   "execution_count": null,
   "id": "86a9d936",
   "metadata": {
    "execution": {
     "iopub.execute_input": "2021-08-30T15:09:04.419963Z",
     "iopub.status.busy": "2021-08-30T15:09:04.419623Z",
     "iopub.status.idle": "2021-08-30T15:09:04.427853Z",
     "shell.execute_reply": "2021-08-30T15:09:04.426884Z",
     "shell.execute_reply.started": "2021-08-30T15:09:04.419913Z"
    },
    "papermill": {
     "duration": null,
     "end_time": null,
     "exception": null,
     "start_time": null,
     "status": "pending"
    },
    "tags": []
   },
   "outputs": [],
   "source": [
    "class SampleModel(nn.Module):\n",
    "    def __init__(self,input_size,h1,h2,h3,h4,p):\n",
    "        super(SampleModel, self).__init__()\n",
    "        self.fc1=nn.Linear(input_size,h1) # 28 --> 32\n",
    "        self.dp1=nn.Dropout(p)\n",
    "        self.fc2=nn.Linear(h1,h2) # 32 --> 16\n",
    "        self.fc3=nn.Linear(h2,h3) # 16 --> 4\n",
    "        self.dp2=nn.Dropout(p)\n",
    "        self.fc4=nn.Linear(h3,h4) # 4 --> 2\n",
    "    def forward(self,x):\n",
    "        x=self.fc1(x).relu()\n",
    "#         x=self.dp1(x)\n",
    "        x=self.fc2(x).relu()\n",
    "        x=self.fc3(x).relu()\n",
    "#         x=self.dp2(x)\n",
    "        x=self.fc4(x)\n",
    "        return x      \n",
    "        "
   ]
  },
  {
   "cell_type": "code",
   "execution_count": null,
   "id": "de2d58b6",
   "metadata": {
    "execution": {
     "iopub.execute_input": "2021-08-30T15:09:09.920860Z",
     "iopub.status.busy": "2021-08-30T15:09:09.920546Z",
     "iopub.status.idle": "2021-08-30T15:09:09.926066Z",
     "shell.execute_reply": "2021-08-30T15:09:09.925033Z",
     "shell.execute_reply.started": "2021-08-30T15:09:09.920830Z"
    },
    "papermill": {
     "duration": null,
     "end_time": null,
     "exception": null,
     "start_time": null,
     "status": "pending"
    },
    "tags": []
   },
   "outputs": [],
   "source": [
    "# # when y - N * 2\n",
    "# def evaluate(data,model):\n",
    "#     l=0\n",
    "#     for batch in torch.utils.data.DataLoader(data, batch_size = 1024, shuffle = True, collate_fn=default_collate):\n",
    "#         X_train=batch[:,:-2]\n",
    "#         Y_train=batch[:,-2:] #  for y1 Y_train=batch[:,-2] for y2 Y_train=batch[:,-1]\n",
    "#         yhat=model(X_train)\n",
    "#         l+=F.mse_loss(yhat,Y_train).item()\n",
    "#     return l\n",
    "    "
   ]
  },
  {
   "cell_type": "code",
   "execution_count": null,
   "id": "ba93ed1f",
   "metadata": {
    "execution": {
     "iopub.execute_input": "2021-08-30T15:16:28.991069Z",
     "iopub.status.busy": "2021-08-30T15:16:28.990717Z",
     "iopub.status.idle": "2021-08-30T15:16:28.996876Z",
     "shell.execute_reply": "2021-08-30T15:16:28.995880Z",
     "shell.execute_reply.started": "2021-08-30T15:16:28.991037Z"
    },
    "papermill": {
     "duration": null,
     "end_time": null,
     "exception": null,
     "start_time": null,
     "status": "pending"
    },
    "tags": []
   },
   "outputs": [],
   "source": [
    "# when y N * 1\n",
    "def evaluate(data,model):\n",
    "    l=0\n",
    "    for batch in torch.utils.data.DataLoader(data, batch_size = 1024, shuffle = True, collate_fn=default_collate):\n",
    "        X_train=batch[:,:-1]\n",
    "        Y_train=batch[:,-1].reshape(-1,1) #  for y1 Y_train=batch[:,-2] for y2 Y_train=batch[:,-1]\n",
    "        yhat=model(X_train)\n",
    "        l+=F.mse_loss(yhat,Y_train).item()\n",
    "    return l\n",
    "    "
   ]
  },
  {
   "cell_type": "code",
   "execution_count": null,
   "id": "a9ead5b6",
   "metadata": {
    "execution": {
     "iopub.execute_input": "2021-08-30T15:09:16.310643Z",
     "iopub.status.busy": "2021-08-30T15:09:16.310323Z",
     "iopub.status.idle": "2021-08-30T15:09:16.321323Z",
     "shell.execute_reply": "2021-08-30T15:09:16.320501Z",
     "shell.execute_reply.started": "2021-08-30T15:09:16.310615Z"
    },
    "papermill": {
     "duration": null,
     "end_time": null,
     "exception": null,
     "start_time": null,
     "status": "pending"
    },
    "tags": []
   },
   "outputs": [],
   "source": [
    "# ## when y is N * 2\n",
    "# def fitv1(model,opt,datasets,epochs=100):\n",
    "#     losses=[]\n",
    "#     prev=float('inf')\n",
    "#     for i in range(epochs):\n",
    "#         for batch in torch.utils.data.DataLoader(datasets[\"train\"], batch_size = 1024, shuffle = True):\n",
    "#             X_train=batch[:,:-2]\n",
    "#             Y_train=batch[:,-2:] #  for y1 Y_train=batch[:,-2] for y2 Y_train=batch[:,-1]\n",
    "#             yhat=model(X_train)\n",
    "#             loss=F.mse_loss(yhat,Y_train)\n",
    "#             opt.zero_grad()\n",
    "#             loss.backward()\n",
    "#       # torch.nn.utils.clip_grad_norm_(model.parameters(), 10)\n",
    "#             opt.step()      \n",
    "# #             train_acc=evaluate(datasets['train'])\n",
    "# #             test_acc=evaluate(datasets['val'])\n",
    "#             test_acc=loss.item()\n",
    "#         train_acc=evaluate(datasets['train'],model)\n",
    "#         test_acc=evaluate(datasets['val'],model)\n",
    "#         if(test_acc<prev):\n",
    "#             modelcopy[\"epoch\"]=i\n",
    "#             modelcopy['model_state_dict']=model.state_dict().copy()\n",
    "#             prev=test_acc\n",
    "#             print(\"Saving the improved model\")\n",
    "        \n",
    "#         print(\"Iteration (epoch) %d / %d , Loss %0.2f Train mse %0.2f Test mse %0.2f\"%(i,epochs,loss.item(),train_acc,test_acc))\n",
    "#         losses.append((train_acc+test_acc)/2)\n",
    "#     plt.plot(losses)\n",
    "#     return model\n",
    "        "
   ]
  },
  {
   "cell_type": "code",
   "execution_count": null,
   "id": "baa61f60",
   "metadata": {
    "execution": {
     "iopub.execute_input": "2021-08-30T15:16:36.075265Z",
     "iopub.status.busy": "2021-08-30T15:16:36.074919Z",
     "iopub.status.idle": "2021-08-30T15:16:36.083624Z",
     "shell.execute_reply": "2021-08-30T15:16:36.082581Z",
     "shell.execute_reply.started": "2021-08-30T15:16:36.075236Z"
    },
    "papermill": {
     "duration": null,
     "end_time": null,
     "exception": null,
     "start_time": null,
     "status": "pending"
    },
    "tags": []
   },
   "outputs": [],
   "source": [
    "# when  y is N*1\n",
    "def fitv1(model,opt,traindata,testdata,epochs=100):\n",
    "    losses=[]\n",
    "    prev=float('inf')\n",
    "    for i in range(epochs):\n",
    "        for batch in torch.utils.data.DataLoader(traindata, batch_size = 1024, shuffle = True):\n",
    "            X_train=batch[:,:-1]\n",
    "            Y_train=batch[:,-1].reshape(-1,1) #  for y1 Y_train=batch[:,-2] for y2 Y_train=batch[:,-1]\n",
    "            yhat=model(X_train)\n",
    "            loss=F.mse_loss(yhat,Y_train)\n",
    "            opt.zero_grad()\n",
    "            loss.backward()\n",
    "      # torch.nn.utils.clip_grad_norm_(model.parameters(), 10)\n",
    "            opt.step()      \n",
    "#             train_acc=evaluate(datasets['train'])\n",
    "#             test_acc=evaluate(datasets['val'])\n",
    "            test_acc=loss.item()\n",
    "        train_acc=evaluate(traindata,model)\n",
    "        test_acc=evaluate(testdata,model)\n",
    "        if(test_acc<prev):\n",
    "            modelcopy[\"epoch\"]=i\n",
    "            modelcopy['model_state_dict']=model.state_dict().copy()\n",
    "            prev=test_acc\n",
    "            print(\"Saving the improved model\")\n",
    "        \n",
    "        \n",
    "        print(\"Iteration (epoch) %d / %d , Loss %0.2f Train mse %0.2f Test mse %0.2f\"%(i,epochs,loss.item(),train_acc,test_acc))\n",
    "        losses.append((train_acc+test_acc)/2)\n",
    "    plt.plot(losses)\n",
    "    return model\n",
    "        "
   ]
  },
  {
   "cell_type": "code",
   "execution_count": null,
   "id": "a929986f",
   "metadata": {
    "execution": {
     "iopub.execute_input": "2021-08-30T15:14:18.534070Z",
     "iopub.status.busy": "2021-08-30T15:14:18.533735Z",
     "iopub.status.idle": "2021-08-30T15:14:48.441740Z",
     "shell.execute_reply": "2021-08-30T15:14:48.440789Z",
     "shell.execute_reply.started": "2021-08-30T15:14:18.534042Z"
    },
    "papermill": {
     "duration": null,
     "end_time": null,
     "exception": null,
     "start_time": null,
     "status": "pending"
    },
    "tags": []
   },
   "outputs": [],
   "source": [
    "# Hyperparameters y is N*2\n",
    "lr=0.01\n",
    "epochs=15\n",
    "input_size=28\n",
    "hidden_layer1=32\n",
    "hidden_layer2=16\n",
    "hidden_layer3=4\n",
    "hidden_layer4=2  # hidden_layer4=1\n",
    "p=0.2\n",
    "\n",
    "# creating CUDA device\n",
    "if(torch.cuda.device_count()>0):\n",
    "    dev=\"cuda\"\n",
    "    print(\"CUDA available, using it\")\n",
    "else:\n",
    "    dev=\"cpu\"\n",
    "    print(\"No CUDA\")\n",
    "device=torch.device(dev)\n",
    "\n",
    "datasets[\"train\"]=datasets[\"train\"].to(device)\n",
    "datasets[\"val\"]=datasets[\"val\"].to(device)\n",
    "# Creating an object of the model\n",
    "model=SampleModel(input_size,hidden_layer1,hidden_layer2,hidden_layer3,hidden_layer4,p)\n",
    "# Moving the model to GPU\n",
    "model.to(device)\n",
    "# Creating the optimizer\n",
    "opt=optim.Adam(model.parameters(), lr=lr, betas=(0.9, 0.999), eps=1e-08, weight_decay=0, amsgrad=True)\n",
    "# opt=optim.SGD(model.parameters(),lr=lr)\n",
    "modelcopy={}\n",
    "# Training the model\n",
    "model=fitv1(model,opt,datasets,epochs)\n"
   ]
  },
  {
   "cell_type": "code",
   "execution_count": null,
   "id": "219a2038",
   "metadata": {
    "execution": {
     "iopub.execute_input": "2021-08-30T06:31:47.613632Z",
     "iopub.status.busy": "2021-08-30T06:31:47.613271Z",
     "iopub.status.idle": "2021-08-30T06:31:47.624576Z",
     "shell.execute_reply": "2021-08-30T06:31:47.623817Z",
     "shell.execute_reply.started": "2021-08-30T06:31:47.613602Z"
    },
    "papermill": {
     "duration": null,
     "end_time": null,
     "exception": null,
     "start_time": null,
     "status": "pending"
    },
    "tags": []
   },
   "outputs": [],
   "source": [
    "torch.save(modelcopy['model_state_dict'],\"modelboth_best.pth\")\n",
    "torch.save(model.state_dict(),\"modelboth_end.pth\")"
   ]
  },
  {
   "cell_type": "code",
   "execution_count": null,
   "id": "3120d6b5",
   "metadata": {
    "execution": {
     "iopub.execute_input": "2021-08-30T15:18:30.544592Z",
     "iopub.status.busy": "2021-08-30T15:18:30.544265Z",
     "iopub.status.idle": "2021-08-30T15:19:00.460553Z",
     "shell.execute_reply": "2021-08-30T15:19:00.459780Z",
     "shell.execute_reply.started": "2021-08-30T15:18:30.544562Z"
    },
    "papermill": {
     "duration": null,
     "end_time": null,
     "exception": null,
     "start_time": null,
     "status": "pending"
    },
    "tags": []
   },
   "outputs": [],
   "source": [
    "# Hyperparameters for y1 variable \n",
    "lr=0.01\n",
    "epochs=15\n",
    "input_size=28\n",
    "hidden_layer1=32\n",
    "hidden_layer2=16\n",
    "hidden_layer3=4\n",
    "hidden_layer4=1  # hidden_layer4=1\n",
    "p=0.2\n",
    "\n",
    "# creating CUDA device\n",
    "if(torch.cuda.device_count()>0):\n",
    "    dev=\"cuda\"\n",
    "    print(\"CUDA available, using it\")\n",
    "else:\n",
    "    dev=\"cpu\"\n",
    "    print(\"No CUDA\")\n",
    "device=torch.device(dev)\n",
    "\n",
    "datasets[\"trainy1\"]=datasets[\"trainy1\"].to(device)\n",
    "datasets[\"valy1\"]=datasets[\"valy1\"].to(device)\n",
    "# Creating an object of the model\n",
    "modely1=SampleModel(input_size,hidden_layer1,hidden_layer2,hidden_layer3,hidden_layer4,p)\n",
    "# Moving the model to GPU\n",
    "modely1.to(device)\n",
    "# Creating the optimizer\n",
    "opt=optim.Adam(modely1.parameters(), lr=lr, betas=(0.9, 0.999), eps=1e-08, weight_decay=0, amsgrad=True)\n",
    "# opt=optim.SGD(model.parameters(),lr=lr)\n",
    "modelcopy={}\n",
    "# Training the model\n",
    "modely1=fitv1(modely1,opt,datasets[\"trainy1\"],datasets[\"valy1\"],epochs)\n"
   ]
  },
  {
   "cell_type": "code",
   "execution_count": null,
   "id": "9bee95f8",
   "metadata": {
    "execution": {
     "iopub.execute_input": "2021-08-30T07:01:19.948508Z",
     "iopub.status.busy": "2021-08-30T07:01:19.948159Z",
     "iopub.status.idle": "2021-08-30T07:01:19.957153Z",
     "shell.execute_reply": "2021-08-30T07:01:19.95624Z",
     "shell.execute_reply.started": "2021-08-30T07:01:19.948475Z"
    },
    "papermill": {
     "duration": null,
     "end_time": null,
     "exception": null,
     "start_time": null,
     "status": "pending"
    },
    "tags": []
   },
   "outputs": [],
   "source": [
    "torch.save(modelcopy['model_state_dict'],\"modely1_best.pth\")\n",
    "torch.save(modely1.state_dict(),\"modely1_end.pth\")"
   ]
  },
  {
   "cell_type": "code",
   "execution_count": null,
   "id": "073203f2",
   "metadata": {
    "execution": {
     "iopub.execute_input": "2021-08-30T15:19:54.770512Z",
     "iopub.status.busy": "2021-08-30T15:19:54.770181Z",
     "iopub.status.idle": "2021-08-30T15:20:24.642825Z",
     "shell.execute_reply": "2021-08-30T15:20:24.642039Z",
     "shell.execute_reply.started": "2021-08-30T15:19:54.770480Z"
    },
    "papermill": {
     "duration": null,
     "end_time": null,
     "exception": null,
     "start_time": null,
     "status": "pending"
    },
    "tags": []
   },
   "outputs": [],
   "source": [
    "# Hyperparameters for y2 variable\n",
    "lr=0.01\n",
    "epochs=15\n",
    "input_size=28\n",
    "hidden_layer1=32\n",
    "hidden_layer2=16\n",
    "hidden_layer3=4\n",
    "hidden_layer4=1  # hidden_layer4=1\n",
    "p=0.2\n",
    "\n",
    "# creating CUDA device\n",
    "if(torch.cuda.device_count()>0):\n",
    "    dev=\"cuda\"\n",
    "    print(\"CUDA available, using it\")\n",
    "else:\n",
    "    dev=\"cpu\"\n",
    "    print(\"No CUDA\")\n",
    "device=torch.device(dev)\n",
    "\n",
    "datasets[\"trainy2\"]=datasets[\"trainy2\"].to(device)\n",
    "datasets[\"valy2\"]=datasets[\"valy2\"].to(device)\n",
    "# Creating an object of the model\n",
    "modely2=SampleModel(input_size,hidden_layer1,hidden_layer2,hidden_layer3,hidden_layer4,p)\n",
    "# Moving the model to GPU\n",
    "modely2.to(device)\n",
    "# Creating the optimizer\n",
    "opt2=optim.Adam(modely2.parameters(), lr=lr, betas=(0.9, 0.999), eps=1e-08, weight_decay=0, amsgrad=True)\n",
    "# opt=optim.SGD(model.parameters(),lr=lr)\n",
    "modelcopy={}\n",
    "# Training the model\n",
    "modely2=fitv1(modely2,opt2,datasets[\"trainy2\"],datasets[\"valy2\"],epochs)\n"
   ]
  },
  {
   "cell_type": "code",
   "execution_count": null,
   "id": "12fe2074",
   "metadata": {
    "execution": {
     "iopub.execute_input": "2021-08-30T03:36:05.742449Z",
     "iopub.status.busy": "2021-08-30T03:36:05.742109Z",
     "iopub.status.idle": "2021-08-30T03:36:05.753758Z",
     "shell.execute_reply": "2021-08-30T03:36:05.752677Z",
     "shell.execute_reply.started": "2021-08-30T03:36:05.742418Z"
    },
    "papermill": {
     "duration": null,
     "end_time": null,
     "exception": null,
     "start_time": null,
     "status": "pending"
    },
    "tags": []
   },
   "outputs": [],
   "source": [
    "# torch.save(modelcopy['model_state_dict'],\"model2_15_msd.pth\")\n"
   ]
  },
  {
   "cell_type": "code",
   "execution_count": null,
   "id": "96ca4a98",
   "metadata": {
    "execution": {
     "iopub.execute_input": "2021-08-30T06:35:12.308634Z",
     "iopub.status.busy": "2021-08-30T06:35:12.308208Z",
     "iopub.status.idle": "2021-08-30T06:35:12.316197Z",
     "shell.execute_reply": "2021-08-30T06:35:12.315221Z",
     "shell.execute_reply.started": "2021-08-30T06:35:12.308512Z"
    },
    "papermill": {
     "duration": null,
     "end_time": null,
     "exception": null,
     "start_time": null,
     "status": "pending"
    },
    "tags": []
   },
   "outputs": [],
   "source": [
    "torch.save(modelcopy['model_state_dict'],\"modely2_best.pth\")\n",
    "torch.save(modely2.state_dict(),\"modely2_end.pth\")"
   ]
  },
  {
   "cell_type": "code",
   "execution_count": null,
   "id": "cd7d31ad",
   "metadata": {
    "execution": {
     "iopub.execute_input": "2021-08-30T07:06:43.33271Z",
     "iopub.status.busy": "2021-08-30T07:06:43.33221Z",
     "iopub.status.idle": "2021-08-30T07:06:43.338366Z",
     "shell.execute_reply": "2021-08-30T07:06:43.337437Z",
     "shell.execute_reply.started": "2021-08-30T07:06:43.332671Z"
    },
    "papermill": {
     "duration": null,
     "end_time": null,
     "exception": null,
     "start_time": null,
     "status": "pending"
    },
    "tags": []
   },
   "outputs": [],
   "source": [
    "modely1=SampleModel(input_size,hidden_layer1,hidden_layer2,hidden_layer3,1,1)"
   ]
  },
  {
   "cell_type": "code",
   "execution_count": null,
   "id": "668c0b8d",
   "metadata": {
    "execution": {
     "iopub.execute_input": "2021-08-30T07:06:44.232637Z",
     "iopub.status.busy": "2021-08-30T07:06:44.232287Z",
     "iopub.status.idle": "2021-08-30T07:06:44.238371Z",
     "shell.execute_reply": "2021-08-30T07:06:44.237369Z",
     "shell.execute_reply.started": "2021-08-30T07:06:44.232608Z"
    },
    "papermill": {
     "duration": null,
     "end_time": null,
     "exception": null,
     "start_time": null,
     "status": "pending"
    },
    "tags": []
   },
   "outputs": [],
   "source": [
    "modely1"
   ]
  },
  {
   "cell_type": "code",
   "execution_count": null,
   "id": "02ad075a",
   "metadata": {
    "execution": {
     "iopub.execute_input": "2021-08-30T07:06:45.707645Z",
     "iopub.status.busy": "2021-08-30T07:06:45.707286Z",
     "iopub.status.idle": "2021-08-30T07:06:45.717097Z",
     "shell.execute_reply": "2021-08-30T07:06:45.716227Z",
     "shell.execute_reply.started": "2021-08-30T07:06:45.707613Z"
    },
    "papermill": {
     "duration": null,
     "end_time": null,
     "exception": null,
     "start_time": null,
     "status": "pending"
    },
    "tags": []
   },
   "outputs": [],
   "source": [
    "modely1.load_state_dict(torch.load(\"modely1_best.pth\"))\n",
    "modely1.to(device)"
   ]
  },
  {
   "cell_type": "code",
   "execution_count": null,
   "id": "c0d38bf5",
   "metadata": {
    "execution": {
     "iopub.execute_input": "2021-08-30T07:07:37.878395Z",
     "iopub.status.busy": "2021-08-30T07:07:37.878071Z",
     "iopub.status.idle": "2021-08-30T07:07:39.416287Z",
     "shell.execute_reply": "2021-08-30T07:07:39.415455Z",
     "shell.execute_reply.started": "2021-08-30T07:07:37.878365Z"
    },
    "papermill": {
     "duration": null,
     "end_time": null,
     "exception": null,
     "start_time": null,
     "status": "pending"
    },
    "tags": []
   },
   "outputs": [],
   "source": [
    "test=pd.read_csv(\"/kaggle/input/beyond-analysis/test.csv\")\n",
    "# test.drop([\"PRACTICE_ENTRY\",\"PRACTICE_WINNINGS\",\"PRACTICE_ENTRY_NUMBER\",\"PRACTICE_WINNINGS_NUMBER\"],axis=1,inplace=True)"
   ]
  },
  {
   "cell_type": "code",
   "execution_count": null,
   "id": "fa730d9e",
   "metadata": {
    "execution": {
     "iopub.execute_input": "2021-08-30T07:07:40.612765Z",
     "iopub.status.busy": "2021-08-30T07:07:40.612396Z",
     "iopub.status.idle": "2021-08-30T07:07:41.700311Z",
     "shell.execute_reply": "2021-08-30T07:07:41.69929Z",
     "shell.execute_reply.started": "2021-08-30T07:07:40.612733Z"
    },
    "papermill": {
     "duration": null,
     "end_time": null,
     "exception": null,
     "start_time": null,
     "status": "pending"
    },
    "tags": []
   },
   "outputs": [],
   "source": [
    "test=encoder.transform(test)\n",
    "test.head()\n"
   ]
  },
  {
   "cell_type": "code",
   "execution_count": null,
   "id": "b129acc5",
   "metadata": {
    "execution": {
     "iopub.execute_input": "2021-08-30T07:07:44.248003Z",
     "iopub.status.busy": "2021-08-30T07:07:44.24767Z",
     "iopub.status.idle": "2021-08-30T07:07:44.494138Z",
     "shell.execute_reply": "2021-08-30T07:07:44.493063Z",
     "shell.execute_reply.started": "2021-08-30T07:07:44.247972Z"
    },
    "papermill": {
     "duration": null,
     "end_time": null,
     "exception": null,
     "start_time": null,
     "status": "pending"
    },
    "tags": []
   },
   "outputs": [],
   "source": [
    "test=test.groupby(\"UNIQUE_IDENTIFIER\").mean().reset_index()\n",
    "test.head()"
   ]
  },
  {
   "cell_type": "code",
   "execution_count": null,
   "id": "5808ba03",
   "metadata": {
    "execution": {
     "iopub.execute_input": "2021-08-30T07:07:47.947721Z",
     "iopub.status.busy": "2021-08-30T07:07:47.947334Z",
     "iopub.status.idle": "2021-08-30T07:07:48.33883Z",
     "shell.execute_reply": "2021-08-30T07:07:48.337797Z",
     "shell.execute_reply.started": "2021-08-30T07:07:47.947687Z"
    },
    "papermill": {
     "duration": null,
     "end_time": null,
     "exception": null,
     "start_time": null,
     "status": "pending"
    },
    "tags": []
   },
   "outputs": [],
   "source": [
    "test.drop([\"CATEGORY_1_0\",\"CATEGORY_2_0\"],axis=1,inplace=True)\n",
    "test.iloc[:,1:]=sc.transform(test.iloc[:,1:])\n",
    "test.head()"
   ]
  },
  {
   "cell_type": "code",
   "execution_count": null,
   "id": "2c04e113",
   "metadata": {
    "execution": {
     "iopub.execute_input": "2021-08-30T07:08:18.232609Z",
     "iopub.status.busy": "2021-08-30T07:08:18.232263Z",
     "iopub.status.idle": "2021-08-30T07:08:18.246949Z",
     "shell.execute_reply": "2021-08-30T07:08:18.245827Z",
     "shell.execute_reply.started": "2021-08-30T07:08:18.232578Z"
    },
    "papermill": {
     "duration": null,
     "end_time": null,
     "exception": null,
     "start_time": null,
     "status": "pending"
    },
    "tags": []
   },
   "outputs": [],
   "source": [
    "idx=test.iloc[:,0]\n",
    "testpyt=torch.from_numpy(np.array(test.iloc[:,1:]).astype(np.float32))\n",
    "testpyt.shape"
   ]
  },
  {
   "cell_type": "code",
   "execution_count": null,
   "id": "5fc8ac22",
   "metadata": {
    "execution": {
     "iopub.execute_input": "2021-08-30T07:08:30.102721Z",
     "iopub.status.busy": "2021-08-30T07:08:30.102328Z",
     "iopub.status.idle": "2021-08-30T07:08:30.108893Z",
     "shell.execute_reply": "2021-08-30T07:08:30.108023Z",
     "shell.execute_reply.started": "2021-08-30T07:08:30.102688Z"
    },
    "papermill": {
     "duration": null,
     "end_time": null,
     "exception": null,
     "start_time": null,
     "status": "pending"
    },
    "tags": []
   },
   "outputs": [],
   "source": [
    "testpyt=testpyt.to(device)"
   ]
  },
  {
   "cell_type": "code",
   "execution_count": null,
   "id": "af71bb94",
   "metadata": {
    "execution": {
     "iopub.execute_input": "2021-08-30T07:08:37.452777Z",
     "iopub.status.busy": "2021-08-30T07:08:37.452402Z",
     "iopub.status.idle": "2021-08-30T07:08:37.459821Z",
     "shell.execute_reply": "2021-08-30T07:08:37.458796Z",
     "shell.execute_reply.started": "2021-08-30T07:08:37.452746Z"
    },
    "papermill": {
     "duration": null,
     "end_time": null,
     "exception": null,
     "start_time": null,
     "status": "pending"
    },
    "tags": []
   },
   "outputs": [],
   "source": [
    "\n",
    "y=model.forward(testpyt)\n",
    "y=y.to(\"cpu\")\n",
    "y=y.detach().numpy()\n",
    "# fd=pd.DataFrame({\"UNIQUE_IDENTIFIER\":idx,\"Y1\":y[:,0],\"Y2\":y[:,1]})\n",
    "# fd.groupby(by=\"UNIQUE_IDENTIFIER\").mean().to_csv(\"sub3_15.csv\")"
   ]
  },
  {
   "cell_type": "code",
   "execution_count": null,
   "id": "0d662ebe",
   "metadata": {
    "execution": {
     "iopub.execute_input": "2021-08-30T06:40:23.473414Z",
     "iopub.status.busy": "2021-08-30T06:40:23.473099Z",
     "iopub.status.idle": "2021-08-30T06:40:23.479351Z",
     "shell.execute_reply": "2021-08-30T06:40:23.478216Z",
     "shell.execute_reply.started": "2021-08-30T06:40:23.473384Z"
    },
    "papermill": {
     "duration": null,
     "end_time": null,
     "exception": null,
     "start_time": null,
     "status": "pending"
    },
    "tags": []
   },
   "outputs": [],
   "source": [
    "y1=modely1.forward(testpyt)\n",
    "y1=y1.to(\"cpu\")\n",
    "y1=y1.detach().numpy()"
   ]
  },
  {
   "cell_type": "code",
   "execution_count": null,
   "id": "dd7b500e",
   "metadata": {
    "execution": {
     "iopub.execute_input": "2021-08-30T07:08:56.957621Z",
     "iopub.status.busy": "2021-08-30T07:08:56.95726Z",
     "iopub.status.idle": "2021-08-30T07:08:57.232104Z",
     "shell.execute_reply": "2021-08-30T07:08:57.231273Z",
     "shell.execute_reply.started": "2021-08-30T07:08:56.957588Z"
    },
    "papermill": {
     "duration": null,
     "end_time": null,
     "exception": null,
     "start_time": null,
     "status": "pending"
    },
    "tags": []
   },
   "outputs": [],
   "source": [
    "fd=pd.DataFrame({\"UNIQUE_IDENTIFIER\":idx,\"Y1\":y1.reshape(-1),\"Y2\":y[:,1]})\n",
    "fd.groupby(by=\"UNIQUE_IDENTIFIER\").mean().to_csv(\"submixed_approach_groupby_practice_removed.csv\")"
   ]
  },
  {
   "cell_type": "code",
   "execution_count": null,
   "id": "77f7ba8e",
   "metadata": {
    "execution": {
     "iopub.execute_input": "2021-08-30T05:35:50.111745Z",
     "iopub.status.busy": "2021-08-30T05:35:50.111429Z",
     "iopub.status.idle": "2021-08-30T05:35:50.122593Z",
     "shell.execute_reply": "2021-08-30T05:35:50.121816Z",
     "shell.execute_reply.started": "2021-08-30T05:35:50.111717Z"
    },
    "papermill": {
     "duration": null,
     "end_time": null,
     "exception": null,
     "start_time": null,
     "status": "pending"
    },
    "tags": []
   },
   "outputs": [],
   "source": [
    "y2=modely2.forward(testpyt)\n",
    "y2=y2.to(\"cpu\")\n",
    "y2=y2.detach().numpy()"
   ]
  },
  {
   "cell_type": "code",
   "execution_count": null,
   "id": "2e7be30a",
   "metadata": {
    "execution": {
     "iopub.execute_input": "2021-08-30T05:36:37.721999Z",
     "iopub.status.busy": "2021-08-30T05:36:37.721642Z",
     "iopub.status.idle": "2021-08-30T05:36:38.029673Z",
     "shell.execute_reply": "2021-08-30T05:36:38.028836Z",
     "shell.execute_reply.started": "2021-08-30T05:36:37.721966Z"
    },
    "papermill": {
     "duration": null,
     "end_time": null,
     "exception": null,
     "start_time": null,
     "status": "pending"
    },
    "tags": []
   },
   "outputs": [],
   "source": [
    "fd=pd.DataFrame({\"UNIQUE_IDENTIFIER\":idx,\"Y1\":y1.reshape(-1),\"Y2\":y2.reshape(-1)})\n",
    "fd.groupby(by=\"UNIQUE_IDENTIFIER\").mean().to_csv(\"sub_seperate.csv\")\n"
   ]
  },
  {
   "cell_type": "code",
   "execution_count": null,
   "id": "5e77bf2e",
   "metadata": {
    "execution": {
     "iopub.execute_input": "2021-08-30T05:36:11.767261Z",
     "iopub.status.busy": "2021-08-30T05:36:11.766933Z",
     "iopub.status.idle": "2021-08-30T05:36:11.77554Z",
     "shell.execute_reply": "2021-08-30T05:36:11.774701Z",
     "shell.execute_reply.started": "2021-08-30T05:36:11.767212Z"
    },
    "papermill": {
     "duration": null,
     "end_time": null,
     "exception": null,
     "start_time": null,
     "status": "pending"
    },
    "tags": []
   },
   "outputs": [],
   "source": [
    "y1.shape"
   ]
  },
  {
   "cell_type": "code",
   "execution_count": null,
   "id": "e1537114",
   "metadata": {
    "execution": {
     "iopub.execute_input": "2021-08-30T03:02:41.159029Z",
     "iopub.status.busy": "2021-08-30T03:02:41.158682Z",
     "iopub.status.idle": "2021-08-30T03:02:41.168447Z",
     "shell.execute_reply": "2021-08-30T03:02:41.1672Z",
     "shell.execute_reply.started": "2021-08-30T03:02:41.158999Z"
    },
    "papermill": {
     "duration": null,
     "end_time": null,
     "exception": null,
     "start_time": null,
     "status": "pending"
    },
    "tags": []
   },
   "outputs": [],
   "source": []
  },
  {
   "cell_type": "code",
   "execution_count": null,
   "id": "3868e592",
   "metadata": {
    "execution": {
     "iopub.execute_input": "2021-08-30T03:02:47.359581Z",
     "iopub.status.busy": "2021-08-30T03:02:47.359263Z",
     "iopub.status.idle": "2021-08-30T03:02:47.676312Z",
     "shell.execute_reply": "2021-08-30T03:02:47.675342Z",
     "shell.execute_reply.started": "2021-08-30T03:02:47.359553Z"
    },
    "papermill": {
     "duration": null,
     "end_time": null,
     "exception": null,
     "start_time": null,
     "status": "pending"
    },
    "tags": []
   },
   "outputs": [],
   "source": []
  },
  {
   "cell_type": "code",
   "execution_count": null,
   "id": "c5c3e722",
   "metadata": {
    "papermill": {
     "duration": null,
     "end_time": null,
     "exception": null,
     "start_time": null,
     "status": "pending"
    },
    "tags": []
   },
   "outputs": [],
   "source": []
  }
 ],
 "metadata": {
  "kernelspec": {
   "display_name": "Python 3",
   "language": "python",
   "name": "python3"
  },
  "language_info": {
   "codemirror_mode": {
    "name": "ipython",
    "version": 3
   },
   "file_extension": ".py",
   "mimetype": "text/x-python",
   "name": "python",
   "nbconvert_exporter": "python",
   "pygments_lexer": "ipython3",
   "version": "3.7.10"
  },
  "papermill": {
   "default_parameters": {},
   "duration": 20.629636,
   "end_time": "2021-08-30T15:22:26.695842",
   "environment_variables": {},
   "exception": true,
   "input_path": "__notebook__.ipynb",
   "output_path": "__notebook__.ipynb",
   "parameters": {},
   "start_time": "2021-08-30T15:22:06.066206",
   "version": "2.3.3"
  }
 },
 "nbformat": 4,
 "nbformat_minor": 5
}
